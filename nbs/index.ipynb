{
 "cells": [
  {
   "cell_type": "code",
   "execution_count": null,
   "metadata": {},
   "outputs": [],
   "source": [
    "#| hide\n",
    "from hand_pose.core import *"
   ]
  },
  {
   "cell_type": "markdown",
   "metadata": {},
   "source": [
    "# hand_pose\n",
    "\n",
    "> Joaquín Escanilla y Benjamín Serrano Hand Pose Lenguaje de Señas"
   ]
  },
  {
   "cell_type": "markdown",
   "metadata": {},
   "source": [
    "Idea del Proyecto:\n",
    "\n",
    "La problemática que se quiere abordar es la de incapacidad de comunicación entre una persona que se comunica utilizando lenguaje de señas y una persona que no entiende o no sabe de lenguaje de señas.\n",
    "\n",
    "Imágen:\n",
    "\n",
    "[inserte imágen(aún no tenemos la foto del papelógrafo)]"
   ]
  }
 ],
 "metadata": {
  "kernelspec": {
   "display_name": "Python 3 (ipykernel)",
   "language": "python",
   "name": "python3"
  },
  "language_info": {
   "codemirror_mode": {
    "name": "ipython",
    "version": 3
   },
   "file_extension": ".py",
   "mimetype": "text/x-python",
   "name": "python",
   "nbconvert_exporter": "python",
   "pygments_lexer": "ipython3",
   "version": "3.11.8"
  }
 },
 "nbformat": 4,
 "nbformat_minor": 4
}
